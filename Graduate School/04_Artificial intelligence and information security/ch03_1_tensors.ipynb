{
  "nbformat": 4,
  "nbformat_minor": 0,
  "metadata": {
    "colab": {
      "provenance": []
    },
    "kernelspec": {
      "name": "python3",
      "display_name": "Python 3"
    },
    "language_info": {
      "name": "python"
    }
  },
  "cells": [
    {
      "cell_type": "markdown",
      "source": [
        "# Tensor"
      ],
      "metadata": {
        "id": "kxPyMqL-0H7U"
      }
    },
    {
      "cell_type": "markdown",
      "source": [
        "- Simple Tensor"
      ],
      "metadata": {
        "id": "UdEdGqB60him"
      }
    },
    {
      "cell_type": "code",
      "execution_count": 1,
      "metadata": {
        "id": "vOhzE4sKz_tO"
      },
      "outputs": [],
      "source": [
        "a = [1.0, 2.0, 1.0]"
      ]
    },
    {
      "cell_type": "code",
      "source": [
        "a[2]"
      ],
      "metadata": {
        "colab": {
          "base_uri": "https://localhost:8080/"
        },
        "id": "a0ccwlQJ0bwH",
        "outputId": "37922b1f-f172-4ea7-90a3-263dce422820"
      },
      "execution_count": 2,
      "outputs": [
        {
          "output_type": "execute_result",
          "data": {
            "text/plain": [
              "1.0"
            ]
          },
          "metadata": {},
          "execution_count": 2
        }
      ]
    },
    {
      "cell_type": "markdown",
      "source": [
        "- Change Tensor"
      ],
      "metadata": {
        "id": "WPA5uOEC0nhk"
      }
    },
    {
      "cell_type": "code",
      "source": [
        "a[2] = 3.0\n",
        "a"
      ],
      "metadata": {
        "colab": {
          "base_uri": "https://localhost:8080/"
        },
        "id": "bsDbLxXh0rNF",
        "outputId": "0301ce0d-3f0d-480e-f029-8cde12607d32"
      },
      "execution_count": 3,
      "outputs": [
        {
          "output_type": "execute_result",
          "data": {
            "text/plain": [
              "[1.0, 2.0, 3.0]"
            ]
          },
          "metadata": {},
          "execution_count": 3
        }
      ]
    },
    {
      "cell_type": "markdown",
      "source": [
        "- Create three Tensor"
      ],
      "metadata": {
        "id": "ked6UnDr03zP"
      }
    },
    {
      "cell_type": "code",
      "source": [
        "import torch # <1>\n",
        "a = torch.ones(3) # <2>\n",
        "a"
      ],
      "metadata": {
        "colab": {
          "base_uri": "https://localhost:8080/"
        },
        "id": "2NbhKaS40uw5",
        "outputId": "d3034008-f27d-4d49-d8a3-7b2beb55c0d1"
      },
      "execution_count": 4,
      "outputs": [
        {
          "output_type": "execute_result",
          "data": {
            "text/plain": [
              "tensor([1., 1., 1.])"
            ]
          },
          "metadata": {},
          "execution_count": 4
        }
      ]
    },
    {
      "cell_type": "markdown",
      "source": [
        "- Show a[0]"
      ],
      "metadata": {
        "id": "_R5QyNz61FS6"
      }
    },
    {
      "cell_type": "code",
      "source": [
        "a[0]"
      ],
      "metadata": {
        "colab": {
          "base_uri": "https://localhost:8080/"
        },
        "id": "KFZycpuX1AtN",
        "outputId": "3aa7221b-cb86-488a-a18b-ec8554666e33"
      },
      "execution_count": 5,
      "outputs": [
        {
          "output_type": "execute_result",
          "data": {
            "text/plain": [
              "tensor(1.)"
            ]
          },
          "metadata": {},
          "execution_count": 5
        }
      ]
    },
    {
      "cell_type": "markdown",
      "source": [
        "- Use float format"
      ],
      "metadata": {
        "id": "fphw2Hzk1IlY"
      }
    },
    {
      "cell_type": "code",
      "source": [
        "float(a[1])"
      ],
      "metadata": {
        "colab": {
          "base_uri": "https://localhost:8080/"
        },
        "id": "3O9ZnBek1D5m",
        "outputId": "106ac4ca-b0cf-4da7-d954-2ddf227ce599"
      },
      "execution_count": 6,
      "outputs": [
        {
          "output_type": "execute_result",
          "data": {
            "text/plain": [
              "1.0"
            ]
          },
          "metadata": {},
          "execution_count": 6
        }
      ]
    },
    {
      "cell_type": "markdown",
      "source": [
        "- Change a[2]"
      ],
      "metadata": {
        "id": "ZAYwzlXm1Pag"
      }
    },
    {
      "cell_type": "code",
      "source": [
        "a[2] = 2.0\n",
        "a"
      ],
      "metadata": {
        "colab": {
          "base_uri": "https://localhost:8080/"
        },
        "id": "8iKvFFn-1Ocq",
        "outputId": "20faf4b1-f7a9-4e13-f246-86f42d0e1344"
      },
      "execution_count": 7,
      "outputs": [
        {
          "output_type": "execute_result",
          "data": {
            "text/plain": [
              "tensor([1., 1., 2.])"
            ]
          },
          "metadata": {},
          "execution_count": 7
        }
      ]
    },
    {
      "cell_type": "markdown",
      "source": [
        "- Create six zero Tensors"
      ],
      "metadata": {
        "id": "QBSghd3-1swt"
      }
    },
    {
      "cell_type": "code",
      "source": [
        "points = torch.zeros(6) # <1>\n",
        "points[0] = 4.0 # <2>\n",
        "points[1] = 1.0\n",
        "points[2] = 5.0\n",
        "points[3] = 3.0\n",
        "points[4] = 2.0\n",
        "points[5] = 1.0"
      ],
      "metadata": {
        "id": "WiNMatsx1kVt"
      },
      "execution_count": 8,
      "outputs": []
    },
    {
      "cell_type": "markdown",
      "source": [
        "- Give nums for Tensor"
      ],
      "metadata": {
        "id": "RCosJEIG2ITS"
      }
    },
    {
      "cell_type": "code",
      "source": [
        "points = torch.tensor([4.0, 1.0, 5.0, 3.0, 2.0, 1.0])\n",
        "points"
      ],
      "metadata": {
        "colab": {
          "base_uri": "https://localhost:8080/"
        },
        "id": "4DnL0Aiu19RP",
        "outputId": "58f46a34-9d22-4725-9ae9-94515294b92a"
      },
      "execution_count": 9,
      "outputs": [
        {
          "output_type": "execute_result",
          "data": {
            "text/plain": [
              "tensor([4., 1., 5., 3., 2., 1.])"
            ]
          },
          "metadata": {},
          "execution_count": 9
        }
      ]
    },
    {
      "cell_type": "markdown",
      "source": [
        "- Use float format"
      ],
      "metadata": {
        "id": "cWiypfTj2Op6"
      }
    },
    {
      "cell_type": "code",
      "source": [
        "float(points[0]), float(points[1])"
      ],
      "metadata": {
        "colab": {
          "base_uri": "https://localhost:8080/"
        },
        "id": "TWC-CQQV2R9M",
        "outputId": "6ef4f040-8075-430b-f887-4c8ccdc3aed1"
      },
      "execution_count": 10,
      "outputs": [
        {
          "output_type": "execute_result",
          "data": {
            "text/plain": [
              "(4.0, 1.0)"
            ]
          },
          "metadata": {},
          "execution_count": 10
        }
      ]
    },
    {
      "cell_type": "markdown",
      "source": [
        "- 2 dimensional"
      ],
      "metadata": {
        "id": "65dg4SlO2YAh"
      }
    },
    {
      "cell_type": "code",
      "source": [
        "points = torch.tensor([[4.0, 1.0], [5.0, 3.0], [2.0, 1.0]])\n",
        "points"
      ],
      "metadata": {
        "colab": {
          "base_uri": "https://localhost:8080/"
        },
        "id": "2M7NOg_z2Wcj",
        "outputId": "e15b385c-e50d-4b8e-9dcc-2ef582c3f657"
      },
      "execution_count": 11,
      "outputs": [
        {
          "output_type": "execute_result",
          "data": {
            "text/plain": [
              "tensor([[4., 1.],\n",
              "        [5., 3.],\n",
              "        [2., 1.]])"
            ]
          },
          "metadata": {},
          "execution_count": 11
        }
      ]
    },
    {
      "cell_type": "markdown",
      "source": [
        "- Print shape"
      ],
      "metadata": {
        "id": "hh0xUDRW2eqg"
      }
    },
    {
      "cell_type": "code",
      "source": [
        "points.shape"
      ],
      "metadata": {
        "colab": {
          "base_uri": "https://localhost:8080/"
        },
        "id": "mUc7VF142hpp",
        "outputId": "56977a26-adf8-4e64-c08f-eeed1b3fbe9f"
      },
      "execution_count": 12,
      "outputs": [
        {
          "output_type": "execute_result",
          "data": {
            "text/plain": [
              "torch.Size([3, 2])"
            ]
          },
          "metadata": {},
          "execution_count": 12
        }
      ]
    },
    {
      "cell_type": "markdown",
      "source": [
        "- Create 3x2 zero Tensor"
      ],
      "metadata": {
        "id": "RTBPoh8t2lJP"
      }
    },
    {
      "cell_type": "code",
      "source": [
        "points = torch.zeros(3, 2)\n",
        "points"
      ],
      "metadata": {
        "colab": {
          "base_uri": "https://localhost:8080/"
        },
        "id": "QY6QP4z82kQy",
        "outputId": "861e0d1c-e906-42cc-a60c-3b5bfce31d40"
      },
      "execution_count": 13,
      "outputs": [
        {
          "output_type": "execute_result",
          "data": {
            "text/plain": [
              "tensor([[0., 0.],\n",
              "        [0., 0.],\n",
              "        [0., 0.]])"
            ]
          },
          "metadata": {},
          "execution_count": 13
        }
      ]
    },
    {
      "cell_type": "markdown",
      "source": [
        "- Give nums to Tensor"
      ],
      "metadata": {
        "id": "03mxTZHW2s_y"
      }
    },
    {
      "cell_type": "code",
      "source": [
        "points = torch.tensor([[4.0, 1.0], [5.0, 3.0], [2.0, 1.0]])\n",
        "points"
      ],
      "metadata": {
        "colab": {
          "base_uri": "https://localhost:8080/"
        },
        "id": "YyxT_fAO2rme",
        "outputId": "84067dad-4c65-478d-de3b-1c526f95b56b"
      },
      "execution_count": 14,
      "outputs": [
        {
          "output_type": "execute_result",
          "data": {
            "text/plain": [
              "tensor([[4., 1.],\n",
              "        [5., 3.],\n",
              "        [2., 1.]])"
            ]
          },
          "metadata": {},
          "execution_count": 14
        }
      ]
    },
    {
      "cell_type": "markdown",
      "source": [
        "- Show [0,1]"
      ],
      "metadata": {
        "id": "JDxR_jRQ20zI"
      }
    },
    {
      "cell_type": "code",
      "source": [
        "points[0, 1]"
      ],
      "metadata": {
        "colab": {
          "base_uri": "https://localhost:8080/"
        },
        "id": "JsOMOz3t2xgE",
        "outputId": "0a955a05-3e2f-4453-a4a2-f0da1868d2e8"
      },
      "execution_count": 15,
      "outputs": [
        {
          "output_type": "execute_result",
          "data": {
            "text/plain": [
              "tensor(1.)"
            ]
          },
          "metadata": {},
          "execution_count": 15
        }
      ]
    },
    {
      "cell_type": "markdown",
      "source": [
        "- Show row[0]"
      ],
      "metadata": {
        "id": "3tlYyBc724qc"
      }
    },
    {
      "cell_type": "code",
      "source": [
        "points[0]"
      ],
      "metadata": {
        "colab": {
          "base_uri": "https://localhost:8080/"
        },
        "id": "fRQ-KX9z2y6c",
        "outputId": "be6f0cfe-bcad-4df0-efc8-3559e85bb9c0"
      },
      "execution_count": 16,
      "outputs": [
        {
          "output_type": "execute_result",
          "data": {
            "text/plain": [
              "tensor([4., 1.])"
            ]
          },
          "metadata": {},
          "execution_count": 16
        }
      ]
    }
  ]
}