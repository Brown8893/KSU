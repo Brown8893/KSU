{
  "cells": [
    {
      "cell_type": "code",
      "source": [
        "!git clone https://github.com/deep-learning-with-pytorch/dlwpt-code.git"
      ],
      "metadata": {
        "colab": {
          "base_uri": "https://localhost:8080/"
        },
        "id": "F8JyZaFqeM7G",
        "outputId": "8e76fe38-d204-4f88-8000-0f18cf86b5c1"
      },
      "execution_count": null,
      "outputs": [
        {
          "output_type": "stream",
          "name": "stdout",
          "text": [
            "Cloning into 'dlwpt-code'...\n",
            "remote: Enumerating objects: 703, done.\u001b[K\n",
            "remote: Total 703 (delta 0), reused 0 (delta 0), pack-reused 703\u001b[K\n",
            "Receiving objects: 100% (703/703), 176.00 MiB | 32.53 MiB/s, done.\n",
            "Resolving deltas: 100% (309/309), done.\n",
            "Updating files: 100% (228/228), done.\n"
          ]
        }
      ]
    },
    {
      "cell_type": "code",
      "execution_count": null,
      "metadata": {
        "id": "1udkLaEhd0xA"
      },
      "outputs": [],
      "source": [
        "import numpy as np\n",
        "import torch\n",
        "torch.set_printoptions(edgeitems=2, threshold=50)"
      ]
    },
    {
      "cell_type": "code",
      "execution_count": null,
      "metadata": {
        "id": "3ZcLNhkod0xC",
        "outputId": "f49bbc4a-ce67-4807-fd31-74fd013f2934",
        "colab": {
          "base_uri": "https://localhost:8080/"
        }
      },
      "outputs": [
        {
          "output_type": "stream",
          "name": "stdout",
          "text": [
            "Looking in indexes: https://pypi.org/simple, https://us-python.pkg.dev/colab-wheels/public/simple/\n",
            "Requirement already satisfied: imageio in /usr/local/lib/python3.9/dist-packages (2.25.1)\n",
            "Requirement already satisfied: pillow>=8.3.2 in /usr/local/lib/python3.9/dist-packages (from imageio) (8.4.0)\n",
            "Requirement already satisfied: numpy in /usr/local/lib/python3.9/dist-packages (from imageio) (1.22.4)\n"
          ]
        },
        {
          "output_type": "stream",
          "name": "stderr",
          "text": [
            "<ipython-input-7-57084dd05e9f>:4: DeprecationWarning: Starting with ImageIO v3 the behavior of this function will switch to that of iio.v3.imread. To keep the current behavior (and make this warning disappear) use `import imageio.v2 as imageio` or call `imageio.v2.imread` directly.\n",
            "  img_arr = imageio.imread('/content/dlwpt-code/data/p1ch4/image-dog/bobby.jpg')  #載入一張圖片\n"
          ]
        },
        {
          "output_type": "execute_result",
          "data": {
            "text/plain": [
              "(720, 1280, 3)"
            ]
          },
          "metadata": {},
          "execution_count": 7
        }
      ],
      "source": [
        "!pip install imageio\n",
        "import imageio\n",
        "\n",
        "img_arr = imageio.imread('/content/dlwpt-code/data/p1ch4/image-dog/bobby.jpg')  #載入一張圖片\n",
        "img_arr.shape   #輸出img_arr的shape"
      ]
    },
    {
      "cell_type": "code",
      "execution_count": null,
      "metadata": {
        "id": "JJe2ypVud0xD",
        "colab": {
          "base_uri": "https://localhost:8080/"
        },
        "outputId": "b73359af-facc-489f-f74b-b26fbeca05f0"
      },
      "outputs": [
        {
          "output_type": "execute_result",
          "data": {
            "text/plain": [
              "torch.Size([3, 720, 1280])"
            ]
          },
          "metadata": {},
          "execution_count": 8
        }
      ],
      "source": [
        "img = torch.from_numpy(img_arr)   #先將img_arr轉成PyTorch張量\n",
        "out = img.permute(2, 0, 1)    #將第2軸移至第0軸，原第0軸及第1軸往後移\n",
        "out.shape"
      ]
    },
    {
      "cell_type": "code",
      "execution_count": null,
      "metadata": {
        "id": "K5GsT5D8d0xD"
      },
      "outputs": [],
      "source": [
        "batch_size = 100\n",
        "batch = torch.zeros(batch_size, 3, 256, 256, dtype=torch.uint8)"
      ]
    },
    {
      "cell_type": "code",
      "execution_count": null,
      "metadata": {
        "scrolled": true,
        "id": "quVVZGCSd0xD",
        "colab": {
          "base_uri": "https://localhost:8080/"
        },
        "outputId": "0203dd12-f1d5-4b7d-f8be-1cb5ea907024"
      },
      "outputs": [
        {
          "output_type": "stream",
          "name": "stdout",
          "text": [
            "torch.Size([100, 3, 256, 256])\n"
          ]
        },
        {
          "output_type": "stream",
          "name": "stderr",
          "text": [
            "<ipython-input-11-af05adf68402>:7: DeprecationWarning: Starting with ImageIO v3 the behavior of this function will switch to that of iio.v3.imread. To keep the current behavior (and make this warning disappear) use `import imageio.v2 as imageio` or call `imageio.v2.imread` directly.\n",
            "  img_arr = imageio.imread(os.path.join(data_dir, filename))\n"
          ]
        }
      ],
      "source": [
        "import os\n",
        "\n",
        "data_dir = '/content/dlwpt-code/data/p1ch4/image-cats'    #圖檔路徑\n",
        "filenames = [name for name in os.listdir(data_dir)\n",
        "             if os.path.splitext(name)[-1] == '.png']   #找出所有png檔案\n",
        "for i, filename in enumerate(filenames):  #依序載入每個png檔\n",
        "    img_arr = imageio.imread(os.path.join(data_dir, filename))\n",
        "    img_t = torch.from_numpy(img_arr)\n",
        "    img_t = img_t.permute(2, 0, 1)    #調整張量中各軸的排列順序\n",
        "    img_t = img_t[:3]   #有些圖片會表示透明度的第3軸(目前不需要)，故只保留前面3軸\n",
        "    batch[i] = img_t  #存在張量中\n",
        "\n",
        "print(batch.shape)"
      ]
    },
    {
      "cell_type": "code",
      "execution_count": null,
      "metadata": {
        "id": "PJ6uCwlud0xD"
      },
      "outputs": [],
      "source": [
        "batch = batch.float()   #將batch張量內的像素值轉換成浮點數\n",
        "batch /= 255.0    #將像素值同除以255"
      ]
    },
    {
      "cell_type": "code",
      "execution_count": null,
      "metadata": {
        "id": "Cx1SLF4pd0xE"
      },
      "outputs": [],
      "source": [
        "n_channels = batch.shape[1]   #取得色彩通道的數量\n",
        "for c in range(n_channels):   #依次走訪每個色彩通道\n",
        "    mean = torch.mean(batch[:, c])  #平均值計算\n",
        "    std = torch.std(batch[:, c])    #標準差計算\n",
        "    batch[:, c] = (batch[:, c] - mean) / std    #正規化的公式計算"
      ]
    }
  ],
  "metadata": {
    "kernelspec": {
      "display_name": "Python 3",
      "language": "python",
      "name": "python3"
    },
    "language_info": {
      "codemirror_mode": {
        "name": "ipython",
        "version": 3
      },
      "file_extension": ".py",
      "mimetype": "text/x-python",
      "name": "python",
      "nbconvert_exporter": "python",
      "pygments_lexer": "ipython3",
      "version": "3.7.6"
    },
    "colab": {
      "provenance": []
    }
  },
  "nbformat": 4,
  "nbformat_minor": 0
}